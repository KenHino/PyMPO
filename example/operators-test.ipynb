{
 "cells": [
  {
   "cell_type": "markdown",
   "metadata": {},
   "source": [
    "# Test of Operators"
   ]
  },
  {
   "cell_type": "code",
   "execution_count": 1,
   "metadata": {},
   "outputs": [],
   "source": [
    "import sympy\n",
    "\n",
    "from pympo.operators import OpSite, SumOfProducts"
   ]
  },
  {
   "cell_type": "code",
   "execution_count": 2,
   "metadata": {},
   "outputs": [
    {
     "data": {
      "text/latex": [
       "$\\displaystyle - J \\hat{s}_0 \\hat{s}_1 - J \\hat{s}_1 \\hat{s}_2 - J \\hat{s}_2 \\hat{s}_3 - J \\hat{s}_3 \\hat{s}_4 - J \\hat{s}_4 \\hat{s}_5 - \\hat{s}_0 h - \\hat{s}_1 h - \\hat{s}_2 h - \\hat{s}_3 h - \\hat{s}_4 h$"
      ],
      "text/plain": [
       "-J*\\hat{s}_0*\\hat{s}_1 - J*\\hat{s}_1*\\hat{s}_2 - J*\\hat{s}_2*\\hat{s}_3 - J*\\hat{s}_3*\\hat{s}_4 - J*\\hat{s}_4*\\hat{s}_5 - \\hat{s}_0*h - \\hat{s}_1*h - \\hat{s}_2*h - \\hat{s}_3*h - \\hat{s}_4*h"
      ]
     },
     "execution_count": 2,
     "metadata": {},
     "output_type": "execute_result"
    }
   ],
   "source": [
    "Ising = SumOfProducts([])\n",
    "J = sympy.Symbol('J')\n",
    "h = sympy.Symbol('h')\n",
    "spin_ops = [OpSite(r'\\hat{s}'+f'_{i}', i) for i in range(6)]\n",
    "for i in range(5):\n",
    "    #print((-J * spin_ops[i] * spin_ops[i+1] - h * spin_ops[i]).symbol)\n",
    "    x = (-J * spin_ops[i] * spin_ops[i+1]) \n",
    "    y = (- h * spin_ops[i])\n",
    "    z = x + y\n",
    "    Ising += z\n",
    "Ising.symbol"
   ]
  },
  {
   "cell_type": "code",
   "execution_count": 3,
   "metadata": {},
   "outputs": [
    {
     "data": {
      "text/latex": [
       "$\\displaystyle \\hat{s}_1 \\hat{s}_2$"
      ],
      "text/plain": [
       "\\hat{s}_1*\\hat{s}_2"
      ]
     },
     "execution_count": 3,
     "metadata": {},
     "output_type": "execute_result"
    }
   ],
   "source": [
    "(J * spin_ops[1] * spin_ops[2]).symbol "
   ]
  },
  {
   "cell_type": "code",
   "execution_count": 4,
   "metadata": {},
   "outputs": [
    {
     "data": {
      "text/latex": [
       "$\\displaystyle J$"
      ],
      "text/plain": [
       "J"
      ]
     },
     "execution_count": 4,
     "metadata": {},
     "output_type": "execute_result"
    }
   ],
   "source": [
    "(J * spin_ops[1] * spin_ops[2]).coef"
   ]
  }
 ],
 "metadata": {
  "kernelspec": {
   "display_name": ".venv",
   "language": "python",
   "name": "python3"
  },
  "language_info": {
   "codemirror_mode": {
    "name": "ipython",
    "version": 3
   },
   "file_extension": ".py",
   "mimetype": "text/x-python",
   "name": "python",
   "nbconvert_exporter": "python",
   "pygments_lexer": "ipython3",
   "version": "3.12.2"
  }
 },
 "nbformat": 4,
 "nbformat_minor": 2
}
